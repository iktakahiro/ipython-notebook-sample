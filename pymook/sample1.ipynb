{
 "metadata": {
  "name": "",
  "signature": "sha256:82cd4e857d2d1338592cdd23dc97915cb367ae4f6371c3e60516fb2c0a4e3b7f"
 },
 "nbformat": 3,
 "nbformat_minor": 0,
 "worksheets": [
  {
   "cells": [
    {
     "cell_type": "code",
     "collapsed": false,
     "input": [
      "%matplotlib inline"
     ],
     "language": "python",
     "metadata": {},
     "outputs": [],
     "prompt_number": 2
    },
    {
     "cell_type": "code",
     "collapsed": false,
     "input": [
      "from matplotlib import pyplot\n",
      "\n",
      "pyplot.style.use('ggplot')\n",
      "\n",
      "\n",
      "x = [0, 1, 2, 3, 4]\n",
      "y = [0, 2, 4, 6, 8]\n",
      "\n",
      "pyplot.plot(x)\n",
      "pyplot.plot(y)\n",
      "pyplot.show()"
     ],
     "language": "python",
     "metadata": {},
     "outputs": [
      {
       "metadata": {},
       "output_type": "display_data",
       "png": "[encoded data removed]",
       "text": [
        "<matplotlib.figure.Figure at 0x109db0210>"
       ]
      }
     ],
     "prompt_number": 4
    }
   ],
   "metadata": {}
  }
 ]
}