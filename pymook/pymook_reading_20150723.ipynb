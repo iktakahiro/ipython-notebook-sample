{
 "cells": [
  {
   "cell_type": "markdown",
   "metadata": {},
   "source": [
    "# このNotebookについて\n",
    "\n",
    "2015年07月23日（木）に開催された、[「Pythonエンジニア養成読本」読書会 03 - connpass](http://pymook.connpass.com/event/16291/)の登壇時、追加資料として利用したものです。\n",
    "\n",
    "Author: Takahiro Ikeuchi - [@iktakahiro](https://twitter.com/iktakahiro)"
   ]
  },
  {
   "cell_type": "code",
   "execution_count": 3,
   "metadata": {
    "collapsed": true
   },
   "outputs": [],
   "source": [
    "import pandas as pd\n",
    "import numpy as np"
   ]
  },
  {
   "cell_type": "markdown",
   "metadata": {},
   "source": [
    "## データの結合（JOIN）\n",
    "\n",
    "養成読本では、複数のデータソースを組み合わせて利用する例は示しませんでした。データの結合（JOIN）について解説します。"
   ]
  },
  {
   "cell_type": "code",
   "execution_count": 9,
   "metadata": {
    "collapsed": false
   },
   "outputs": [],
   "source": [
    "# 商品データと購買ログの2つのデータを読み込みます。\n",
    "master = pd.read_csv('./data/master.csv')\n",
    "log = pd.read_csv('./data/log.csv')"
   ]
  },
  {
   "cell_type": "code",
   "execution_count": 7,
   "metadata": {
    "collapsed": false
   },
   "outputs": [
    {
     "data": {
      "text/html": [
       "<div>\n",
       "<table border=\"1\" class=\"dataframe\">\n",
       "  <thead>\n",
       "    <tr style=\"text-align: right;\">\n",
       "      <th></th>\n",
       "      <th>id</th>\n",
       "      <th>name</th>\n",
       "      <th>price</th>\n",
       "    </tr>\n",
       "  </thead>\n",
       "  <tbody>\n",
       "    <tr>\n",
       "      <th>0</th>\n",
       "      <td>i100</td>\n",
       "      <td>ham</td>\n",
       "      <td>230</td>\n",
       "    </tr>\n",
       "    <tr>\n",
       "      <th>1</th>\n",
       "      <td>i200</td>\n",
       "      <td>egg</td>\n",
       "      <td>150</td>\n",
       "    </tr>\n",
       "    <tr>\n",
       "      <th>2</th>\n",
       "      <td>i300</td>\n",
       "      <td>bacon</td>\n",
       "      <td>170</td>\n",
       "    </tr>\n",
       "  </tbody>\n",
       "</table>\n",
       "</div>"
      ],
      "text/plain": [
       "     id   name  price\n",
       "0  i100    ham    230\n",
       "1  i200    egg    150\n",
       "2  i300  bacon    170"
      ]
     },
     "execution_count": 7,
     "metadata": {},
     "output_type": "execute_result"
    }
   ],
   "source": [
    "# masterの内容を確認します\n",
    "master"
   ]
  },
  {
   "cell_type": "code",
   "execution_count": 136,
   "metadata": {
    "collapsed": false
   },
   "outputs": [
    {
     "data": {
      "text/html": [
       "<div>\n",
       "<table border=\"1\" class=\"dataframe\">\n",
       "  <thead>\n",
       "    <tr style=\"text-align: right;\">\n",
       "      <th></th>\n",
       "      <th>date</th>\n",
       "      <th>user</th>\n",
       "      <th>id</th>\n",
       "    </tr>\n",
       "  </thead>\n",
       "  <tbody>\n",
       "    <tr>\n",
       "      <th>0</th>\n",
       "      <td>2015-07-01</td>\n",
       "      <td>u100</td>\n",
       "      <td>i100</td>\n",
       "    </tr>\n",
       "    <tr>\n",
       "      <th>1</th>\n",
       "      <td>2015-07-01</td>\n",
       "      <td>u100</td>\n",
       "      <td>i200</td>\n",
       "    </tr>\n",
       "    <tr>\n",
       "      <th>2</th>\n",
       "      <td>2015-07-02</td>\n",
       "      <td>u100</td>\n",
       "      <td>i100</td>\n",
       "    </tr>\n",
       "    <tr>\n",
       "      <th>3</th>\n",
       "      <td>2015-07-03</td>\n",
       "      <td>u200</td>\n",
       "      <td>i300</td>\n",
       "    </tr>\n",
       "    <tr>\n",
       "      <th>4</th>\n",
       "      <td>2015-07-03</td>\n",
       "      <td>u200</td>\n",
       "      <td>i100</td>\n",
       "    </tr>\n",
       "    <tr>\n",
       "      <th>5</th>\n",
       "      <td>2015-07-03</td>\n",
       "      <td>u300</td>\n",
       "      <td>i200</td>\n",
       "    </tr>\n",
       "    <tr>\n",
       "      <th>6</th>\n",
       "      <td>2015-07-03</td>\n",
       "      <td>u300</td>\n",
       "      <td>i100</td>\n",
       "    </tr>\n",
       "  </tbody>\n",
       "</table>\n",
       "</div>"
      ],
      "text/plain": [
       "         date  user    id\n",
       "0  2015-07-01  u100  i100\n",
       "1  2015-07-01  u100  i200\n",
       "2  2015-07-02  u100  i100\n",
       "3  2015-07-03  u200  i300\n",
       "4  2015-07-03  u200  i100\n",
       "5  2015-07-03  u300  i200\n",
       "6  2015-07-03  u300  i100"
      ]
     },
     "execution_count": 136,
     "metadata": {},
     "output_type": "execute_result"
    }
   ],
   "source": [
    "# logの内容を確認します\n",
    "log"
   ]
  },
  {
   "cell_type": "markdown",
   "metadata": {},
   "source": [
    "データの結合を行います。"
   ]
  },
  {
   "cell_type": "code",
   "execution_count": 137,
   "metadata": {
    "collapsed": false
   },
   "outputs": [
    {
     "data": {
      "text/html": [
       "<div>\n",
       "<table border=\"1\" class=\"dataframe\">\n",
       "  <thead>\n",
       "    <tr style=\"text-align: right;\">\n",
       "      <th></th>\n",
       "      <th>date</th>\n",
       "      <th>user</th>\n",
       "      <th>id</th>\n",
       "      <th>name</th>\n",
       "      <th>price</th>\n",
       "    </tr>\n",
       "  </thead>\n",
       "  <tbody>\n",
       "    <tr>\n",
       "      <th>0</th>\n",
       "      <td>2015-07-01</td>\n",
       "      <td>u100</td>\n",
       "      <td>i100</td>\n",
       "      <td>ham</td>\n",
       "      <td>230</td>\n",
       "    </tr>\n",
       "    <tr>\n",
       "      <th>1</th>\n",
       "      <td>2015-07-02</td>\n",
       "      <td>u100</td>\n",
       "      <td>i100</td>\n",
       "      <td>ham</td>\n",
       "      <td>230</td>\n",
       "    </tr>\n",
       "    <tr>\n",
       "      <th>2</th>\n",
       "      <td>2015-07-03</td>\n",
       "      <td>u200</td>\n",
       "      <td>i100</td>\n",
       "      <td>ham</td>\n",
       "      <td>230</td>\n",
       "    </tr>\n",
       "    <tr>\n",
       "      <th>3</th>\n",
       "      <td>2015-07-03</td>\n",
       "      <td>u300</td>\n",
       "      <td>i100</td>\n",
       "      <td>ham</td>\n",
       "      <td>230</td>\n",
       "    </tr>\n",
       "    <tr>\n",
       "      <th>4</th>\n",
       "      <td>2015-07-01</td>\n",
       "      <td>u100</td>\n",
       "      <td>i200</td>\n",
       "      <td>egg</td>\n",
       "      <td>150</td>\n",
       "    </tr>\n",
       "    <tr>\n",
       "      <th>5</th>\n",
       "      <td>2015-07-03</td>\n",
       "      <td>u300</td>\n",
       "      <td>i200</td>\n",
       "      <td>egg</td>\n",
       "      <td>150</td>\n",
       "    </tr>\n",
       "    <tr>\n",
       "      <th>6</th>\n",
       "      <td>2015-07-03</td>\n",
       "      <td>u200</td>\n",
       "      <td>i300</td>\n",
       "      <td>bacon</td>\n",
       "      <td>170</td>\n",
       "    </tr>\n",
       "  </tbody>\n",
       "</table>\n",
       "</div>"
      ],
      "text/plain": [
       "         date  user    id   name  price\n",
       "0  2015-07-01  u100  i100    ham    230\n",
       "1  2015-07-02  u100  i100    ham    230\n",
       "2  2015-07-03  u200  i100    ham    230\n",
       "3  2015-07-03  u300  i100    ham    230\n",
       "4  2015-07-01  u100  i200    egg    150\n",
       "5  2015-07-03  u300  i200    egg    150\n",
       "6  2015-07-03  u200  i300  bacon    170"
      ]
     },
     "execution_count": 137,
     "metadata": {},
     "output_type": "execute_result"
    }
   ],
   "source": [
    "# id 列で結合します\n",
    "pd.merge(log, master, left_on='id', right_on='id')"
   ]
  },
  {
   "cell_type": "markdown",
   "metadata": {},
   "source": [
    "## pipe() の解説\n",
    "\n",
    "Pandas 0.16.2 で、 pipe() というメソッドが追加されました。pipe() について解説します。"
   ]
  },
  {
   "cell_type": "code",
   "execution_count": 5,
   "metadata": {
    "collapsed": false
   },
   "outputs": [
    {
     "data": {
      "text/html": [
       "<div>\n",
       "<table border=\"1\" class=\"dataframe\">\n",
       "  <thead>\n",
       "    <tr style=\"text-align: right;\">\n",
       "      <th></th>\n",
       "      <th>id</th>\n",
       "      <th>name</th>\n",
       "      <th>price</th>\n",
       "    </tr>\n",
       "  </thead>\n",
       "  <tbody>\n",
       "    <tr>\n",
       "      <th>0</th>\n",
       "      <td>i100</td>\n",
       "      <td>ham</td>\n",
       "      <td>230</td>\n",
       "    </tr>\n",
       "    <tr>\n",
       "      <th>1</th>\n",
       "      <td>i200</td>\n",
       "      <td>egg</td>\n",
       "      <td>150</td>\n",
       "    </tr>\n",
       "    <tr>\n",
       "      <th>2</th>\n",
       "      <td>i300</td>\n",
       "      <td>bacon</td>\n",
       "      <td>170</td>\n",
       "    </tr>\n",
       "  </tbody>\n",
       "</table>\n",
       "</div>"
      ],
      "text/plain": [
       "     id   name  price\n",
       "0  i100    ham    230\n",
       "1  i200    egg    150\n",
       "2  i300  bacon    170"
      ]
     },
     "execution_count": 5,
     "metadata": {},
     "output_type": "execute_result"
    }
   ],
   "source": [
    "def f(df):\n",
    "        return df\n",
    "    \n",
    "master.pipe(f)"
   ]
  },
  {
   "cell_type": "code",
   "execution_count": 6,
   "metadata": {
    "collapsed": false
   },
   "outputs": [
    {
     "data": {
      "text/html": [
       "<div>\n",
       "<table border=\"1\" class=\"dataframe\">\n",
       "  <thead>\n",
       "    <tr style=\"text-align: right;\">\n",
       "      <th></th>\n",
       "      <th>id</th>\n",
       "      <th>name</th>\n",
       "      <th>price</th>\n",
       "      <th>tax_in</th>\n",
       "    </tr>\n",
       "  </thead>\n",
       "  <tbody>\n",
       "    <tr>\n",
       "      <th>0</th>\n",
       "      <td>i100</td>\n",
       "      <td>ham</td>\n",
       "      <td>200</td>\n",
       "      <td>216.0</td>\n",
       "    </tr>\n",
       "    <tr>\n",
       "      <th>1</th>\n",
       "      <td>i200</td>\n",
       "      <td>egg</td>\n",
       "      <td>150</td>\n",
       "      <td>162.0</td>\n",
       "    </tr>\n",
       "    <tr>\n",
       "      <th>2</th>\n",
       "      <td>i300</td>\n",
       "      <td>bacon</td>\n",
       "      <td>170</td>\n",
       "      <td>183.6</td>\n",
       "    </tr>\n",
       "  </tbody>\n",
       "</table>\n",
       "</div>"
      ],
      "text/plain": [
       "     id   name  price  tax_in\n",
       "0  i100    ham    200   216.0\n",
       "1  i200    egg    150   162.0\n",
       "2  i300  bacon    170   183.6"
      ]
     },
     "execution_count": 6,
     "metadata": {},
     "output_type": "execute_result"
    }
   ],
   "source": [
    "def discount(df):\n",
    "    \"\"\"\n",
    "    商品名が ham だった場合に割り引きします\n",
    "    \"\"\"\n",
    "\n",
    "    df2 = df.copy()\n",
    "    df2.ix[df2.name == 'ham', 'price'] = df2.price - 30\n",
    "\n",
    "    return df2\n",
    "    \n",
    "def tax_in(df, col):\n",
    "    \"\"\"\n",
    "    消費税を計算したカラムを追加します\n",
    "    \"\"\"\n",
    "\n",
    "    df['tax_in'] = df[col] * 1.08\n",
    "\n",
    "    return df\n",
    "\n",
    "(\n",
    "master.pipe(discount)\n",
    "      .pipe(tax_in, col='price')\n",
    ")"
   ]
  }
 ],
 "metadata": {
  "kernelspec": {
   "display_name": "Python 3",
   "language": "python",
   "name": "python3"
  },
  "language_info": {
   "codemirror_mode": {
    "name": "ipython",
    "version": 3
   },
   "file_extension": ".py",
   "mimetype": "text/x-python",
   "name": "python",
   "nbconvert_exporter": "python",
   "pygments_lexer": "ipython3",
   "version": "3.4.3"
  }
 },
 "nbformat": 4,
 "nbformat_minor": 0
}
