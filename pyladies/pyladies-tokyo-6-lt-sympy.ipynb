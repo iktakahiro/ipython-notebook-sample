{
 "cells": [
  {
   "cell_type": "markdown",
   "metadata": {},
   "source": [
    "# PyLadies Tokyo Meetup #6 LT - SymPyとチャート式で復習する高校数学I\n",
    "\n",
    "## お前だれよ？\n",
    "\n",
    "- [@iktakahiro](https://twitter.com/iktakahiro)\n",
    "- blog: https://librabuch.jp\n",
    "- [PyData.Tokyo](https://pydata.tokyo) オーガナイザー\n",
    "- Python 2014 チュートリアル PyData 担当\n",
    "- Pythonエンジニア養成読本 第四章PyData入門 執筆\n",
    "\n",
    "<a href=\"http://www.amazon.co.jp/gp/product/4774173207/ref=as_li_ss_il?ie=UTF8&camp=247&creative=7399&creativeASIN=4774173207&linkCode=as2&tag=librabuch-22\"><img border=\"0\" src=\"http://ws-fe.amazon-adsystem.com/widgets/q?_encoding=UTF8&ASIN=4774173207&Format=_SL250_&ID=AsinImage&MarketPlace=JP&ServiceVersion=20070822&WS=1&tag=librabuch-22\" ></a><img src=\"51PtA5QZUZL._SL250_.jpg\" width=\"1\" height=\"1\" border=\"0\" alt=\"\" style=\"border:none !important; margin:0px !important;\" />"
   ]
  },
  {
   "cell_type": "markdown",
   "metadata": {},
   "source": [
    "## 本日のテキスト\n",
    "\n",
    "<a href=\"http://www.amazon.co.jp/gp/product/4410102044/ref=as_li_ss_il?ie=UTF8&camp=247&creative=7399&creativeASIN=4410102044&linkCode=as2&tag=librabuch-22\"><img border=\"0\" src=\"http://ws-fe.amazon-adsystem.com/widgets/q?_encoding=UTF8&ASIN=4410102044&Format=_SL250_&ID=AsinImage&MarketPlace=JP&ServiceVersion=20070822&WS=1&tag=librabuch-22\" ></a><img src=\"51yGBShxoeL._SL250_.jpg\" width=\"1\" height=\"1\" border=\"0\" alt=\"\" style=\"border:none !important; margin:0px !important;\" />\n",
    "\n",
    "## 数学1の範囲\n",
    "\n",
    "1. 式の計算\n",
    "1. 実数, 一次不等式\n",
    "1. 集合と命題\n",
    "1. 2次関数\n",
    "1. 2次方程式と2次不等式\n",
    "1. 三角比\n",
    "1. 三角形への応用\n",
    "1. データの分析\n",
    "\n",
    "## 本日の復習範囲\n",
    "\n",
    "- 式の計算\n",
    "- 一次不等式\n",
    "- 2次関数\n",
    "- 2次方程式と2次不等式"
   ]
  },
  {
   "cell_type": "markdown",
   "metadata": {},
   "source": [
    "## SymPyとは\n",
    "\n",
    "[SymPy](http://www.sympy.org/en/index.html)とは、数式処理（symbolic mathematis）を行うためのパッケージです。\n",
    "\n",
    "pipインストール可能です。\n",
    "\n",
    "```sh\n",
    "pip install sympy\n",
    "```\n",
    "\n",
    "次のような計算が数式処理の最もベーシックなものです。"
   ]
  },
  {
   "cell_type": "code",
   "execution_count": 26,
   "metadata": {
    "collapsed": false
   },
   "outputs": [
    {
     "name": "stdout",
     "output_type": "stream",
     "text": [
      "定義された式:\n",
      " 2*x + y\n",
      "\n",
      "x=4, Y=3の場合:\n",
      " 11\n",
      "\n",
      "expr から y をマイナス:\n",
      " 2*x\n"
     ]
    }
   ],
   "source": [
    "import sympy\n",
    "\n",
    "# 記号の定義\n",
    "x, y = sympy.symbols('x y')\n",
    "\n",
    "# 式の定義\n",
    "expr = 2 * x + y\n",
    "print('定義された式:\\n', expr)\n",
    "\n",
    "# x, y に数値を代入\n",
    "a1 = expr.subs([(x, 4), (y, 3)])\n",
    "print('\\nx=4, Y=3の場合:\\n', a1)\n",
    "\n",
    "a2 = expr - y\n",
    "print('\\nexpr から y をマイナス:\\n', a2)"
   ]
  },
  {
   "cell_type": "markdown",
   "metadata": {},
   "source": [
    "## 式の計算\n",
    "\n",
    "次の計算をせよ。（13頁, 基礎例題5）\n",
    "\n",
    "(1)　$(5x^3+3x-2x^2-4)+(3x^3-3x^2+5)$"
   ]
  },
  {
   "cell_type": "code",
   "execution_count": 35,
   "metadata": {
    "collapsed": false
   },
   "outputs": [
    {
     "data": {
      "text/plain": [
       "8*x**3 - 5*x**2 + 3*x + 1"
      ]
     },
     "execution_count": 35,
     "metadata": {},
     "output_type": "execute_result"
    }
   ],
   "source": [
    "left = 5 * x ** 3 + 3 * x - 2 * x ** 2 - 4\n",
    "right = 3 * x ** 3 - 3 * x ** 2 + 5\n",
    "left + right"
   ]
  },
  {
   "cell_type": "markdown",
   "metadata": {},
   "source": [
    "答え:　$8x^3-5x^2+3x+1$"
   ]
  },
  {
   "cell_type": "markdown",
   "metadata": {},
   "source": [
    "## 式の展開\n",
    "\n",
    "次の式を展開せよ。（20頁, 基礎例題10）\n",
    "\n",
    "(1)　$(x-2y+1)(x-2y-2)$\n",
    "\n",
    "(2)　$(a+b+c)^2$"
   ]
  },
  {
   "cell_type": "code",
   "execution_count": 41,
   "metadata": {
    "collapsed": false
   },
   "outputs": [
    {
     "data": {
      "text/plain": [
       "x**2 - 4*x*y - x + 4*y**2 + 2*y - 2"
      ]
     },
     "execution_count": 41,
     "metadata": {},
     "output_type": "execute_result"
    }
   ],
   "source": [
    "sympy.expand((x-2*y+1)*(x-2*y-2))"
   ]
  },
  {
   "cell_type": "markdown",
   "metadata": {},
   "source": [
    "答え:　$x^2-4xy-x+4y^2+2y-2$"
   ]
  },
  {
   "cell_type": "code",
   "execution_count": 45,
   "metadata": {
    "collapsed": false
   },
   "outputs": [
    {
     "data": {
      "text/plain": [
       "a**2 + 2*a*b + 2*a*c + b**2 + 2*b*c + c**2"
      ]
     },
     "execution_count": 45,
     "metadata": {},
     "output_type": "execute_result"
    }
   ],
   "source": [
    "a, b, c = sympy.symbols('a b c')\n",
    "\n",
    "sympy.expand((a+b+c)**2)"
   ]
  },
  {
   "cell_type": "markdown",
   "metadata": {},
   "source": [
    "答え:　$a^2+b^2+c^2+2ab+2bc+2ca$"
   ]
  },
  {
   "cell_type": "markdown",
   "metadata": {},
   "source": [
    "## 因数分解\n",
    "\n",
    "次の式を因数分解せよ（26頁, 基礎例題14）\n",
    "\n",
    "(1)　$x^2+8x+15$"
   ]
  },
  {
   "cell_type": "code",
   "execution_count": 48,
   "metadata": {
    "collapsed": false
   },
   "outputs": [
    {
     "data": {
      "text/plain": [
       "(x + 3)*(x + 5)"
      ]
     },
     "execution_count": 48,
     "metadata": {},
     "output_type": "execute_result"
    }
   ],
   "source": [
    "sympy.factor(x**2+8*x+15)"
   ]
  },
  {
   "cell_type": "markdown",
   "metadata": {},
   "source": [
    "答え:　$(x+3)(x+5)$"
   ]
  },
  {
   "cell_type": "markdown",
   "metadata": {},
   "source": [
    "次の不等式を解け。（58頁, 基礎例題35）\n",
    "\n",
    "(1)　$4x+5>2x-3$"
   ]
  },
  {
   "cell_type": "code",
   "execution_count": 57,
   "metadata": {
    "collapsed": false
   },
   "outputs": [
    {
     "data": {
      "text/plain": [
       "And(-4 < re(x), im(x) == 0, re(x) < oo)"
      ]
     },
     "execution_count": 57,
     "metadata": {},
     "output_type": "execute_result"
    }
   ],
   "source": [
    "from sympy.solvers.inequalities import reduce_rational_inequalities\n",
    "\n",
    "reduce_rational_inequalities([[4 * x + 5 > 2 * x -3]], x)"
   ]
  },
  {
   "cell_type": "markdown",
   "metadata": {},
   "source": [
    "答え: $x > -4$"
   ]
  },
  {
   "cell_type": "markdown",
   "metadata": {},
   "source": [
    "## 二次関数\n",
    "\n",
    "次の二次関数のグラフをかけ。\n",
    "\n",
    "(1)　$y = 2x^2-4x-1$"
   ]
  },
  {
   "cell_type": "code",
   "execution_count": 22,
   "metadata": {
    "collapsed": false
   },
   "outputs": [
    {
     "data": {
      "image/png": "[encoded data removed]",
      "text/plain": [
       "<matplotlib.figure.Figure at 0x106b19278>"
      ]
     },
     "metadata": {},
     "output_type": "display_data"
    }
   ],
   "source": [
    "%matplotlib inline\n",
    "from matplotlib import pyplot as plt\n",
    "import numpy as np \n",
    "\n",
    "x = np.arange(-1.8, 4 , 0.2) \n",
    "y = 2 * x ** 2 - 4 * x - 1\n",
    "\n",
    "plt.style.use('ggplot')\n",
    "\n",
    "plt.plot(x,y) \n",
    "plt.axhline(y=0, color='gray')\n",
    "plt.axvline(x=0, color='gray') \n",
    "plt.xlabel(\"x\")\n",
    "plt.ylabel(\"y\")\n",
    "\n",
    "plt.show()"
   ]
  },
  {
   "cell_type": "markdown",
   "metadata": {},
   "source": [
    "（SymPyは出てきませんでした..）"
   ]
  },
  {
   "cell_type": "markdown",
   "metadata": {},
   "source": [
    "## 2次方程式\n",
    "\n",
    "次の2次方程式を解け。\n",
    "\n",
    "（1） $x^2-x-20$\n",
    "\n",
    "（2） $x^2-12x-36$"
   ]
  },
  {
   "cell_type": "code",
   "execution_count": 45,
   "metadata": {
    "collapsed": false
   },
   "outputs": [
    {
     "data": {
      "text/plain": [
       "[-4, 5]"
      ]
     },
     "execution_count": 45,
     "metadata": {},
     "output_type": "execute_result"
    }
   ],
   "source": [
    "import sympy\n",
    "from sympy.solvers import solve\n",
    "\n",
    "x = sympy.symbols('x')\n",
    "\n",
    "expr = x**2 - x - 20\n",
    "solve(expr, x)"
   ]
  },
  {
   "cell_type": "markdown",
   "metadata": {},
   "source": [
    "答え:　$x = -4, 5$"
   ]
  },
  {
   "cell_type": "code",
   "execution_count": 43,
   "metadata": {
    "collapsed": false
   },
   "outputs": [
    {
     "data": {
      "text/plain": [
       "[6]"
      ]
     },
     "execution_count": 43,
     "metadata": {},
     "output_type": "execute_result"
    }
   ],
   "source": [
    "expr = x**2 - 12 * x + 36\n",
    "solve(expr, x)"
   ]
  },
  {
   "cell_type": "markdown",
   "metadata": {
    "collapsed": true
   },
   "source": [
    "答え:　$x = 6$"
   ]
  }
 ],
 "metadata": {
  "kernelspec": {
   "display_name": "Python 3",
   "language": "python",
   "name": "python3"
  },
  "language_info": {
   "codemirror_mode": {
    "name": "ipython",
    "version": 3
   },
   "file_extension": ".py",
   "mimetype": "text/x-python",
   "name": "python",
   "nbconvert_exporter": "python",
   "pygments_lexer": "ipython3",
   "version": "3.4.3"
  }
 },
 "nbformat": 4,
 "nbformat_minor": 0
}
